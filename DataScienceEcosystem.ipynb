{
  "metadata": {
    "language_info": {
      "codemirror_mode": {
        "name": "python",
        "version": 3
      },
      "file_extension": ".py",
      "mimetype": "text/x-python",
      "name": "python",
      "nbconvert_exporter": "python",
      "pygments_lexer": "ipython3",
      "version": "3.8"
    },
    "kernelspec": {
      "name": "python",
      "display_name": "Pyolite",
      "language": "python"
    }
  },
  "nbformat_minor": 4,
  "nbformat": 4,
  "cells": [
    {
      "cell_type": "markdown",
      "source": "# Exercise 2 - Create a markdown cell with the title of the notebook. (1 pt)\n\nData Science Ecosystem",
      "metadata": {}
    },
    {
      "cell_type": "markdown",
      "source": "# Exercise 3 - Create a markdown cell for an introduction. (1 pt)\n\nThe main grading criteria will be:\n\nIs the notebook publicly viewable?\n\nAre there, or do there appear to be, at least 8 Markdown cells and 2 code cells?\n\nAre the criteria for each cell fulfilled, as described in the \"Guidelines for Submission\"?",
      "metadata": {
        "jp-MarkdownHeadingCollapsed": true,
        "tags": []
      }
    },
    {
      "cell_type": "markdown",
      "source": "# Exercise 4 - Create a markdown cell to list data science languages. (3 pts)\n\nPython\nR \nSQL \nJava \nJulia \nScala \nC/C++ \nJavaScript",
      "metadata": {}
    },
    {
      "cell_type": "markdown",
      "source": "# Exercise 5 - Create a markdown cell to list data science libraries. (3 pts)\nPython Libraries for Data Science Python Libraries for Data Processing and Model Deployment\n\n1) Pandas\n2) NumPy\n3) SciPy\n4) Sci-Kit Learn\n5) PyCaret\n6) Tensorflow\n7) OpenCV\nPython Libraries for Data Mining and Data Scraping \n8) SQLAlchemy \n9) Scrapy\n10) BeautifulSoup \nPython Libraries for Data Visualization\n11) Matplotlib \n12) Ggplot\n13) Plotly \n14) Altair",
      "metadata": {}
    },
    {
      "cell_type": "markdown",
      "source": "# Exercise 6 - Create a markdown cell with a table of Data Science tools. (3 pts)\n| 1 | 2 |3 | 4 |5 | 6 |7 | 8 |9 | 10 |11 | 12 |\n| ------ | ------ |------ | ------ |------ | ------ |------ | ------ |------ | ------ |------ | ------ |\n| Apache Spark | IBM SPSS |Julia | Jupyter Notebook |Pandas | Python |PyTorch | R |SAS | Scikit-learn |TensorFlow | Keras |\n",
      "metadata": {}
    },
    {
      "cell_type": "code",
      "source": "# Exercise 7 - Create a markdown cell introducing arithmetic expression examples. (1 pt)\n1+2*26565/989\n",
      "metadata": {
        "trusted": true
      },
      "execution_count": 1,
      "outputs": [
        {
          "execution_count": 1,
          "output_type": "execute_result",
          "data": {
            "text/plain": "54.72093023255814"
          },
          "metadata": {}
        }
      ]
    },
    {
      "cell_type": "markdown",
      "source": "# Exercise 8 - Create a code cell to multiply and add numbers.(2 pts)\n# This function adds two numbers\ndef add(x, y):\n    return x + y\n# This function subtracts two numbers\ndef subtract(x, y):\n    return x - y\n# This function multiplies two numbers\ndef multiply(x, y):\n    return x * y\n# This function divides two numbers\ndef divide(x, y):\n    return x / y\nprint(\"Select operation.\")\nprint(\"1.Add\")\nprint(\"2.Subtract\")\nprint(\"3.Multiply\")\nprint(\"4.Divide\")\nwhile True:\n    # take input from the user\n    choice = input(\"Enter choice(1/2/3/4): \")\n    # check if choice is one of the four options\n    if choice in ('1', '2', '3', '4'):\n        try:\n            num1 = float(input(\"Enter first number: \"))\n            num2 = float(input(\"Enter second number: \"))\n        except ValueError:\n            print(\"Invalid input. Please enter a number.\")\n            continue\n        if choice == '1':\n            print(num1, \"+\", num2, \"=\", add(num1, num2))\n\n        elif choice == '2':\n            print(num1, \"-\", num2, \"=\", subtract(num1, num2))\n        elif choice == '3':\n            print(num1, \"*\", num2, \"=\", multiply(num1, num2))\n        elif choice == '4':\n            print(num1, \"/\", num2, \"=\", divide(num1, num2))      \n        # check if user wants another calculation\n        # break the while loop if answer is no\n        next_calculation = input(\"Let's do next calculation? (yes/no): \")\n        if next_calculation == \"no\":\n          break\n    else:\n        print(\"Invalid Input\")",
      "metadata": {}
    },
    {
      "cell_type": "markdown",
      "source": "# Exercise 9 - Create a code cell to convert minutes to hours. (2 pts)\n# This function converts minutes to seconds\n#take input from the user\nnum = float(input(\"Enter the number of minutes to be converted to seconds:\"))\nans=num*60\nprint(num, \" mins is equivalent to\", \":\", ans ,\"seconds\")",
      "metadata": {}
    },
    {
      "cell_type": "markdown",
      "source": "# Exercise 10 -Insert a markdown cell to list Objectives. (3 pts)\nExtract insights from big data using predictive analytics and artificial intelligence (AI), including machine learning models, \nnatural language processing, and deep learning. Write programs that automate data processing and calculations.",
      "metadata": {
        "jp-MarkdownHeadingCollapsed": true,
        "tags": []
      }
    },
    {
      "cell_type": "markdown",
      "source": "# Exercise 11 - Create a markdown cell to indicate the Author’s name. (2 pts)\nMOHAMMADREZA MASHHADIEBRAHIM",
      "metadata": {}
    },
    {
      "cell_type": "markdown",
      "source": "# Exercise 12 - Share your notebook through GitHub (3 pts)\n",
      "metadata": {}
    },
    {
      "cell_type": "markdown",
      "source": "# Exercise 13 - Take a screenshot of the first page of the notebook. (1 pt)\n\n",
      "metadata": {}
    }
  ]
}